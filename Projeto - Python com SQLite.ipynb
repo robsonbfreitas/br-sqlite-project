{
  "nbformat": 4,
  "nbformat_minor": 0,
  "metadata": {
    "anaconda-cloud": {},
    "kernelspec": {
      "display_name": "Python [conda env:udacity-update]",
      "language": "python",
      "name": "conda-env-udacity-update-py"
    },
    "language_info": {
      "codemirror_mode": {
        "name": "ipython",
        "version": 3
      },
      "file_extension": ".py",
      "mimetype": "text/x-python",
      "name": "python",
      "nbconvert_exporter": "python",
      "pygments_lexer": "ipython3",
      "version": "3.7.7"
    },
    "colab": {
      "name": "Projeto - Python com SQLite.ipynb",
      "provenance": [],
      "toc_visible": true
    }
  },
  "cells": [
    {
      "cell_type": "markdown",
      "metadata": {
        "id": "JPV_hFvLzWWB"
      },
      "source": [
        "# Awari - Data Science\n",
        "\n",
        "## Projeto - Python com SQLite\n",
        "\n",
        "## 1. Considerações iniciais\n",
        "\n",
        "Para que você assimile melhor os comandos do SQL, preparamos este projeto de Python com SQLite. Neste notebook Jupyter, você irá reforçando alguns conceitos da unidade atual e deverá executar algumas tarefas pelo caminho. Todo o projeto deve ser executado neste Jupyter Notebook. Por fim, se desejar, revise as respostas com o seu mentor.\n",
        "\n",
        "### 1.1. Por que SQLite?\n",
        "O SQLite é uma pequena biblioteca em C que possui um banco de dados SQL embutido. Sem o apoio de um poderoso SGDB (Sistema de Gerenciamento de Banco de Dados) como nas soluções do mercado, o SQLite é ideal para fins de aprendizagem, pois sua instalação é fácil e não requer nenhuma configuração inicial. Deste modo, podemos focar nos comandos do SQL.\n",
        "\n",
        "### 1.2. Prepare seu ambiente\n",
        "Baixe e instale o SQLite antes de começar. Resumidamente, você irá acessar a página de [Downloads](https://www.sqlite.org/download.html) do SQLite e baixar os executáveis para a mesma pasta deste notebook. Caso você encontre dificuldades:\n",
        "\n",
        "- Assista a este [vídeo](https://www.youtube.com/watch?v=VcKKt6OTlJc) para \"instalar\" o SQLite no Windows ou;\n",
        "- Ou siga este [manual](http://www.devfuria.com.br/linux/instalando-sqlite/) para as plataformas Linux.\n",
        "\n",
        "### 1.3. Conjunto de dados\n",
        "\n",
        "O conjunto de dados que iremos utilizar é derivado do [Titanic](https://www.kaggle.com/c/titanic/data). Na verdade, dividimos o conjunto em dois arquivos CSV - [passageiros](passageiros.csv) e [passagens](passagens.csv). Cada um destes arquivo serão inseridos dentro do SQLite como tabelas, onde você executará suas consultas SQL.\n",
        "\n",
        "#### 1.3.1. Descrição do dados\n",
        "\n",
        "No arquivo [passageiros](passageiros.csv), você encontrará:\n",
        "- PassengerId: Id do passageiro\n",
        "- Survived: Se o passageiro sobreviveu ou não. Se 0, então não sobreviveu. Se 1, sobreviveu.\n",
        "- Pclass: Classe em que o passageiro estava viajando. Se 1, então estava na primeira classe e assim por diante.\n",
        "- Name: Nome do passageiro.\n",
        "- Sex: Gênero do passageiro. Masculino ou feminino.\n",
        "- Age: Idade.\n",
        "- Sibsp: número de irmãos / esposas a bordo do navio.\n",
        "- Parch: número de pais / filhos a bordo do navio.\n",
        "\n",
        "E no arquivo [passagens](passagens.csv):\n",
        "- PassengerId: Id do passageiro\n",
        "- Ticket: número do ticket de embarque\n",
        "- Fare: valor pago pelo ticket.\n",
        "- Cabin: cabine do passageiro.\n",
        "- Embarked: porto de embarque do passageiro. C = Cherbourg, Q = Queenstown e S = Southampton\n"
      ]
    },
    {
      "cell_type": "markdown",
      "metadata": {
        "id": "BIn1TmQnzWWW"
      },
      "source": [
        "## 2. Procedimentos\n",
        "\n",
        "### 2.1. Leitura dos arquivos CSV\n",
        "Antes de importarmos os dados dentro das tabelas, precisamos começar lendo os arquivos CSV. O pequeno código abaixo importa os dados do CSV em uma lista de dicionários em Python."
      ]
    },
    {
      "cell_type": "code",
      "metadata": {
        "collapsed": true,
        "id": "dVlm_hiLzWWY"
      },
      "source": [
        "import csv \n",
        "\n",
        "def importar_csv(arquivo):\n",
        "    dados = []\n",
        "    with open(arquivo) as arq:\n",
        "        leitor = csv.DictReader(arq)\n",
        "        for l in leitor:\n",
        "            dados.append(dict(l))\n",
        "    \n",
        "    print('O conjunto de dados tem %s registros.' % len(dados))\n",
        "    \n",
        "    return dados"
      ],
      "execution_count": 1,
      "outputs": []
    },
    {
      "cell_type": "markdown",
      "metadata": {
        "id": "vykciULszWWZ"
      },
      "source": [
        "### TAREFA 01\n",
        "\n",
        "1. Importe o arquivo passagens.csv usando o mesmo código anterior.\n",
        "2. Atualize as partes contendo `...` com o que falta no seu código\n",
        "\n",
        "**DICA**: Não reinvente a roda, reutilize a função anterior."
      ]
    },
    {
      "cell_type": "code",
      "metadata": {
        "id": "WlvVZYe0zWWa",
        "colab": {
          "base_uri": "https://localhost:8080/"
        },
        "outputId": "4fa169de-f408-4f50-e0bc-5fecc5a35360"
      },
      "source": [
        "# Insira seu código aqui\n",
        "passagens = importar_csv('passagens.csv')"
      ],
      "execution_count": 2,
      "outputs": [
        {
          "output_type": "stream",
          "text": [
            "O conjunto de dados tem 891 registros.\n"
          ],
          "name": "stdout"
        }
      ]
    },
    {
      "cell_type": "markdown",
      "metadata": {
        "id": "Y80U_5ewzWWa"
      },
      "source": [
        "### TAREFA 02\n",
        "1. Importe o arquivo passageiros.csv usando o mesmo código anterior."
      ]
    },
    {
      "cell_type": "code",
      "metadata": {
        "collapsed": true,
        "id": "9gTxFkyszWWb",
        "colab": {
          "base_uri": "https://localhost:8080/"
        },
        "outputId": "4df4e6fc-4662-4c3e-bae9-2e0cfceed3e9"
      },
      "source": [
        "# Insira seu código aqui\n",
        "passageiros = importar_csv('passageiros.csv')\n"
      ],
      "execution_count": 3,
      "outputs": [
        {
          "output_type": "stream",
          "text": [
            "O conjunto de dados tem 891 registros.\n"
          ],
          "name": "stdout"
        }
      ]
    },
    {
      "cell_type": "markdown",
      "metadata": {
        "id": "dvUClqtozWWb"
      },
      "source": [
        "### 2.2. Criando o banco de dados\n",
        "Para manipular um banco SQLite com Python, temos que utilizar uma biblioteca específica."
      ]
    },
    {
      "cell_type": "code",
      "metadata": {
        "collapsed": true,
        "id": "RyYd_WO1zWWc"
      },
      "source": [
        "import sqlite3\n",
        "conn = sqlite3.connect('titanic.db')"
      ],
      "execution_count": 4,
      "outputs": []
    },
    {
      "cell_type": "markdown",
      "metadata": {
        "id": "H2ZAmCuRzWWd"
      },
      "source": [
        "O comando acima cria o arquivo [titanic.db](titanic.db), que armazará nossos dados."
      ]
    },
    {
      "cell_type": "markdown",
      "metadata": {
        "id": "q7ELB3kXzWWd"
      },
      "source": [
        "### 2.3. Criando as tabelas\n",
        "Neste momento, temos do dados e o banco SQLlite. Então é hora de começar à usar comandos SQL para criar as tabelas que armazenarão nossos dados dentro do banco.\n",
        "\n",
        "No SQLlite, precisamos primeiro criar uma conexão e um cursor para executar nossos comandos no banco. Para facilicar, o código abaixo facilita este processo. Você só precisa passar seu comando SQL para a função."
      ]
    },
    {
      "cell_type": "code",
      "metadata": {
        "collapsed": true,
        "id": "tNhbKBR0zWWe"
      },
      "source": [
        "def executa(comando):\n",
        "    cursor = conn.cursor()\n",
        "    cursor.execute(comando)\n",
        "    cursor.close()"
      ],
      "execution_count": 5,
      "outputs": []
    },
    {
      "cell_type": "markdown",
      "metadata": {
        "id": "Dws9BrybzWWe"
      },
      "source": [
        "Não execute o comando abaixo, pois ele dá um erro. É só um exemplo"
      ]
    },
    {
      "cell_type": "code",
      "metadata": {
        "collapsed": true,
        "id": "YEgYCtWCzWWf"
      },
      "source": [
        "# Exemplo\n",
        "#comando = '<SEU_COMANDO_AQUI>'\n",
        "#executa(comando)"
      ],
      "execution_count": null,
      "outputs": []
    },
    {
      "cell_type": "markdown",
      "metadata": {
        "id": "NTOGFrgbzWWf"
      },
      "source": [
        "### TAREFA 03\n",
        "1. Cria a tabela passageiros.\n",
        "2. PassengerId deve ser a chave primária.\n",
        "3. Atualize as partes contendo `...` com o que falta no seu código"
      ]
    },
    {
      "cell_type": "code",
      "metadata": {
        "collapsed": true,
        "id": "ahHlXrECzWWg"
      },
      "source": [
        "# Insira seu código aqui\n",
        "tabela_passageiros_comando = \"\"\"\n",
        "CREATE TABLE passageiros(PassengerId INTEGER NOT NULL PRIMARY KEY, Survived INTEGER NOT NULL, Pclass INTEGER NOT NULL, Name VARCHAR(200), Sex VARCHAR(20), Age INTEGER, SibSp INTEGER, Parch INTEGER);\n",
        "\"\"\""
      ],
      "execution_count": 6,
      "outputs": []
    },
    {
      "cell_type": "code",
      "metadata": {
        "collapsed": true,
        "id": "yz5JceUpzWWg"
      },
      "source": [
        "executa(tabela_passageiros_comando)"
      ],
      "execution_count": 7,
      "outputs": []
    },
    {
      "cell_type": "markdown",
      "metadata": {
        "id": "exd93S5jzWWh"
      },
      "source": [
        "### TAREFA 04\n",
        "1. Cria a tabela passagens.\n",
        "2. PassengerId deve ser a chave primária.\n",
        "3. Atualize as partes contendo `...` com o que falta no seu código"
      ]
    },
    {
      "cell_type": "code",
      "metadata": {
        "collapsed": true,
        "id": "yu3g0sfMzWWh"
      },
      "source": [
        "# Insira seu código aqui\n",
        "tabela_passagens_comando = \"\"\"\n",
        "CREATE TABLE passagens(PassengerId INTEGER NOT NULL PRIMARY KEY, Ticket VARCHAR(200), Fare DECIMAL(9,2), Cabin VARCHAR(20), Embarked VARCHAR(5));\n",
        "\"\"\"\n"
      ],
      "execution_count": 8,
      "outputs": []
    },
    {
      "cell_type": "code",
      "metadata": {
        "collapsed": true,
        "id": "j11Eq-7szWWi"
      },
      "source": [
        "executa(tabela_passagens_comando)"
      ],
      "execution_count": 9,
      "outputs": []
    },
    {
      "cell_type": "markdown",
      "metadata": {
        "id": "A7h7FsNFzWWi"
      },
      "source": [
        "**Atenção:** Caso você tente executar os comandos de criação de tabelas mais de uma vez, perceberá um erro de operação informando que a tabela já existe.\n",
        "\n",
        "Vamos verificar se as tabelas foram realmente criadas? Abra o terminal e na pasta atual digite:\n",
        "```\n",
        "$ sqlite3 titanic.db \".tables\"\n",
        "```\n",
        "O terminal deve retornar com as tabelas existentes em seu banco [titanic.db](titanic.db). Neste casos, *passageiros* e *passagens*. Lembre-se que neste momento, não temos nenhum dado inseridos nas tabelas.\n",
        "\n",
        "Caso queira verifcar mais algumas informações das tabelas criadas, pode executar esta outra instrução:\n",
        "```\n",
        "$ sqlite3 titanic.db \"PRAGMA table_info(passageiros)\"\n",
        "```"
      ]
    },
    {
      "cell_type": "markdown",
      "metadata": {
        "id": "3BdW6EVfzWWj"
      },
      "source": [
        "### TAREFA 05\n",
        "1. Pelo terminal, verifique mais informações da tabela passagens."
      ]
    },
    {
      "cell_type": "markdown",
      "metadata": {
        "id": "6YO9UIr9zWWj"
      },
      "source": [
        "### 2.4. Inserindo dados nas tabelas\n",
        "Usando o comando INSERT INTO, vamos popular as nossas tabelas. O processo é simples, percorremos as listas de dicionários, montamos nosso comando INSERT INTO e executamos - uma a uma. Para a tabela passageiros:"
      ]
    },
    {
      "cell_type": "code",
      "metadata": {
        "collapsed": true,
        "id": "ApNTMqpfzWWk"
      },
      "source": [
        "for p in passageiros:\n",
        "    p['Name'] = p['Name'].replace('\"', \"'\")\n",
        "    inserir_passageiro = (\"\"\"\n",
        "    INSERT INTO passageiros(PassengerId, Survived, Pclass, Name, Sex, Age, Sibsp, Parch)\n",
        "    VALUES (%s, \"%s\", \"%s\", \"%s\", \"%s\", \"%s\", \"%s\", \"%s\")\"\"\") % (p['PassengerId'], p['Survived'], p['Pclass'],\n",
        "                                                                 p['Name'], p['Sex'], p['Age'], p['SibSp'],\n",
        "                                                                 p['Parch'])\n",
        "    executa(inserir_passageiro)"
      ],
      "execution_count": 10,
      "outputs": []
    },
    {
      "cell_type": "markdown",
      "metadata": {
        "id": "lyKUT6_qzWWl"
      },
      "source": [
        "### TAREFA 06\n",
        "1. Insira os dados de passagens dentro da tabela passagens"
      ]
    },
    {
      "cell_type": "code",
      "metadata": {
        "collapsed": true,
        "id": "GOdNwUpRzWWm"
      },
      "source": [
        "# Insira seu código aqui\n",
        "for p in passagens:\n",
        "    inserir_passagens = (\"\"\"\n",
        "    INSERT INTO passagens(PassengerId, Ticket, Fare, Cabin, Embarked)\n",
        "    VALUES (%s, \"%s\", \"%s\", \"%s\", \"%s\")\"\"\") % (p['PassengerId'], p['Ticket'], p['Fare'], \n",
        "                                               p['Cabin'], p['Embarked'])\n",
        "    executa(inserir_passagens)"
      ],
      "execution_count": 11,
      "outputs": []
    },
    {
      "cell_type": "markdown",
      "metadata": {
        "id": "9a2naUMZzWWn"
      },
      "source": [
        "### 2.5. Executando consultas\n",
        "Agora que os dados estão inseridos no arquivo banco SQLite, vamos executar alguns consultas. Vamos começar fazendo uma seleção de todas as colunas das tabelas.\n",
        "\n",
        "O comando SELECT retorna dados, deste modo, precisamos fazer alguma alteração na função executa. utilize o *executa_consulta()*."
      ]
    },
    {
      "cell_type": "code",
      "metadata": {
        "collapsed": true,
        "id": "ZiHjUB97zWWn"
      },
      "source": [
        "def executa_consulta(consulta):\n",
        "    cursor = conn.cursor()\n",
        "    cursor.execute(consulta)\n",
        "    for linha in cursor.fetchall():\n",
        "        print(linha)\n",
        "    \n",
        "    cursor.close()"
      ],
      "execution_count": 12,
      "outputs": []
    },
    {
      "cell_type": "markdown",
      "metadata": {
        "id": "0tWMUX2izWWo"
      },
      "source": [
        "Testando nosso código. Repare que o comando LIMIT foi utilizado para limitar a quantidade de linhas."
      ]
    },
    {
      "cell_type": "code",
      "metadata": {
        "id": "_dcFI7ZHzWWo",
        "colab": {
          "base_uri": "https://localhost:8080/"
        },
        "outputId": "cbc84ce0-ac1f-4e11-c5ba-da9c1afc07b8"
      },
      "source": [
        "consulta_passageiro = \"\"\"SELECT * FROM PASSAGEIROS LIMIT 10\"\"\"\n",
        "executa_consulta(consulta_passageiro)"
      ],
      "execution_count": 13,
      "outputs": [
        {
          "output_type": "stream",
          "text": [
            "(1, 0, 3, 'Braund, Mr. Owen Harris', 'male', 22, 1, 0)\n",
            "(2, 1, 1, 'Cumings, Mrs. John Bradley (Florence Briggs Thayer)', 'female', 38, 1, 0)\n",
            "(3, 1, 3, 'Heikkinen, Miss. Laina', 'female', 26, 0, 0)\n",
            "(4, 1, 1, 'Futrelle, Mrs. Jacques Heath (Lily May Peel)', 'female', 35, 1, 0)\n",
            "(5, 0, 3, 'Allen, Mr. William Henry', 'male', 35, 0, 0)\n",
            "(6, 0, 3, 'Moran, Mr. James', 'male', '', 0, 0)\n",
            "(7, 0, 1, 'McCarthy, Mr. Timothy J', 'male', 54, 0, 0)\n",
            "(8, 0, 3, 'Palsson, Master. Gosta Leonard', 'male', 2, 3, 1)\n",
            "(9, 1, 3, 'Johnson, Mrs. Oscar W (Elisabeth Vilhelmina Berg)', 'female', 27, 0, 2)\n",
            "(10, 1, 2, 'Nasser, Mrs. Nicholas (Adele Achem)', 'female', 14, 1, 0)\n"
          ],
          "name": "stdout"
        }
      ]
    },
    {
      "cell_type": "code",
      "metadata": {
        "collapsed": true,
        "id": "Q6tYH0MkzWWp",
        "colab": {
          "base_uri": "https://localhost:8080/"
        },
        "outputId": "f836c5fb-6d58-469d-d5b8-4ce30b0352eb"
      },
      "source": [
        "consulta_passagens = \"\"\"SELECT * FROM PASSAGENS LIMIT 10\"\"\"\n",
        "executa_consulta(consulta_passagens)"
      ],
      "execution_count": null,
      "outputs": [
        {
          "output_type": "stream",
          "text": [
            "(1, 'A/5 21171', 7.25, '', 'S')\n",
            "(2, 'PC 17599', 71.2833, 'C85', 'C')\n",
            "(3, 'STON/O2. 3101282', 7925, '', 'S')\n",
            "(4, '113803', 53.1, 'C123', 'S')\n",
            "(5, '373450', 8.05, '', 'S')\n",
            "(6, '330877', 8.4583, '', 'Q')\n",
            "(7, '17463', 51.8625, 'E46', 'S')\n",
            "(8, '349909', 21075, '', 'S')\n",
            "(9, '347742', 11.1333, '', 'S')\n",
            "(10, '237736', 30.0708, '', 'C')\n"
          ],
          "name": "stdout"
        }
      ]
    },
    {
      "cell_type": "markdown",
      "metadata": {
        "id": "zT5-HYEkzWWp"
      },
      "source": [
        "Também podemos imprimir mais informações sobre uma tabela usando o seguinte comando:"
      ]
    },
    {
      "cell_type": "code",
      "metadata": {
        "collapsed": true,
        "id": "-HQwyoWFzWWp",
        "colab": {
          "base_uri": "https://localhost:8080/"
        },
        "outputId": "ab24c2e3-b38b-4e02-b550-c85afbbf4104"
      },
      "source": [
        "executa_consulta('pragma table_info(passageiros)')"
      ],
      "execution_count": 14,
      "outputs": [
        {
          "output_type": "stream",
          "text": [
            "(0, 'PassengerId', 'INTEGER', 1, None, 1)\n",
            "(1, 'Survived', 'INTEGER', 1, None, 0)\n",
            "(2, 'Pclass', 'INTEGER', 1, None, 0)\n",
            "(3, 'Name', 'VARCHAR(200)', 0, None, 0)\n",
            "(4, 'Sex', 'VARCHAR(20)', 0, None, 0)\n",
            "(5, 'Age', 'INTEGER', 0, None, 0)\n",
            "(6, 'SibSp', 'INTEGER', 0, None, 0)\n",
            "(7, 'Parch', 'INTEGER', 0, None, 0)\n"
          ],
          "name": "stdout"
        }
      ]
    },
    {
      "cell_type": "markdown",
      "metadata": {
        "id": "hkZupD4NzWWq"
      },
      "source": [
        "### TAREFA 07\n",
        "1. Verifique quantos tipos de classe (PClass) existem na tabela passageiros."
      ]
    },
    {
      "cell_type": "code",
      "metadata": {
        "id": "Q8_R545gzWWq",
        "colab": {
          "base_uri": "https://localhost:8080/"
        },
        "outputId": "5d1daee9-9313-4063-9307-d600522e2775"
      },
      "source": [
        "# Insira seu código aqui\n",
        "consulta = \"\"\"SELECT DISTINCT(PClass) FROM PASSAGEIROS\"\"\"\n",
        "executa_consulta(consulta)"
      ],
      "execution_count": 15,
      "outputs": [
        {
          "output_type": "stream",
          "text": [
            "(3,)\n",
            "(1,)\n",
            "(2,)\n"
          ],
          "name": "stdout"
        }
      ]
    },
    {
      "cell_type": "markdown",
      "metadata": {
        "id": "FnahY0IxzWWq"
      },
      "source": [
        "### TAREFA 08\n",
        "1. Selecione os passageiros do sexo masculino (Sex) e que estejam na segunda classe (PClass).\n",
        "\n",
        "**DICA**: Use a cláusula WHERE e uma condicional (AND ou OR)."
      ]
    },
    {
      "cell_type": "code",
      "metadata": {
        "id": "GN54Gl-ozWWr",
        "colab": {
          "base_uri": "https://localhost:8080/"
        },
        "outputId": "9ad79e73-d297-4815-a270-30a0610fc416"
      },
      "source": [
        "# Insira seu código aqui\n",
        "consulta = \"\"\"SELECT * FROM PASSAGEIROS WHERE Sex='male' and PClass= 2\"\"\"\n",
        "executa_consulta(consulta)"
      ],
      "execution_count": 16,
      "outputs": [
        {
          "output_type": "stream",
          "text": [
            "(18, 1, 2, 'Williams, Mr. Charles Eugene', 'male', '', 0, 0)\n",
            "(21, 0, 2, 'Fynney, Mr. Joseph J', 'male', 35, 0, 0)\n",
            "(22, 1, 2, 'Beesley, Mr. Lawrence', 'male', 34, 0, 0)\n",
            "(34, 0, 2, 'Wheadon, Mr. Edward H', 'male', 66, 0, 0)\n",
            "(71, 0, 2, 'Jenkin, Mr. Stephen Curnow', 'male', 32, 0, 0)\n",
            "(73, 0, 2, 'Hood, Mr. Ambrose Jr', 'male', 21, 0, 0)\n",
            "(79, 1, 2, 'Caldwell, Master. Alden Gates', 'male', 0.83, 0, 2)\n",
            "(100, 0, 2, 'Kantor, Mr. Sinai', 'male', 34, 1, 0)\n",
            "(118, 0, 2, 'Turpin, Mr. William John Robert', 'male', 29, 1, 0)\n",
            "(121, 0, 2, 'Hickman, Mr. Stanley George', 'male', 21, 2, 0)\n",
            "(123, 0, 2, 'Nasser, Mr. Nicholas', 'male', 32.5, 1, 0)\n",
            "(135, 0, 2, 'Sobey, Mr. Samuel James Hayden', 'male', 25, 0, 0)\n",
            "(136, 0, 2, 'Richard, Mr. Emile', 'male', 23, 0, 0)\n",
            "(145, 0, 2, 'Andrew, Mr. Edgardo Samuel', 'male', 18, 0, 0)\n",
            "(146, 0, 2, 'Nicholls, Mr. Joseph Charles', 'male', 19, 1, 1)\n",
            "(149, 0, 2, \"Navratil, Mr. Michel ('Louis M Hoffman')\", 'male', 36.5, 0, 2)\n",
            "(150, 0, 2, 'Byles, Rev. Thomas Roussel Davids', 'male', 42, 0, 0)\n",
            "(151, 0, 2, 'Bateman, Rev. Robert James', 'male', 51, 0, 0)\n",
            "(179, 0, 2, 'Hale, Mr. Reginald', 'male', 30, 0, 0)\n",
            "(182, 0, 2, 'Pernot, Mr. Rene', 'male', '', 0, 0)\n",
            "(184, 1, 2, 'Becker, Master. Richard F', 'male', 1, 2, 1)\n",
            "(192, 0, 2, 'Carbines, Mr. William', 'male', 19, 0, 0)\n",
            "(194, 1, 2, 'Navratil, Master. Michel M', 'male', 3, 1, 1)\n",
            "(214, 0, 2, 'Givard, Mr. Hans Kristensen', 'male', 30, 0, 0)\n",
            "(218, 0, 2, 'Jacobsohn, Mr. Sidney Samuel', 'male', 42, 1, 0)\n",
            "(220, 0, 2, 'Harris, Mr. Walter', 'male', 30, 0, 0)\n",
            "(222, 0, 2, 'Bracken, Mr. James H', 'male', 27, 0, 0)\n",
            "(227, 1, 2, 'Mellors, Mr. William John', 'male', 19, 0, 0)\n",
            "(229, 0, 2, 'Fahlstrom, Mr. Arne Jonas', 'male', 18, 0, 0)\n",
            "(233, 0, 2, 'Sjostedt, Mr. Ernst Adolf', 'male', 59, 0, 0)\n",
            "(235, 0, 2, 'Leyson, Mr. Robert William Norman', 'male', 24, 0, 0)\n",
            "(237, 0, 2, 'Hold, Mr. Stephen', 'male', 44, 1, 0)\n",
            "(239, 0, 2, 'Pengelly, Mr. Frederick William', 'male', 19, 0, 0)\n",
            "(240, 0, 2, 'Hunt, Mr. George Henry', 'male', 33, 0, 0)\n",
            "(243, 0, 2, 'Coleridge, Mr. Reginald Charles', 'male', 29, 0, 0)\n",
            "(250, 0, 2, 'Carter, Rev. Ernest Courtenay', 'male', 54, 1, 0)\n",
            "(266, 0, 2, 'Reeves, Mr. David', 'male', 36, 0, 0)\n",
            "(278, 0, 2, \"Parkes, Mr. Francis 'Frank'\", 'male', '', 0, 0)\n",
            "(289, 1, 2, 'Hosono, Mr. Masabumi', 'male', 42, 0, 0)\n",
            "(293, 0, 2, 'Levy, Mr. Rene Jacques', 'male', 36, 0, 0)\n",
            "(309, 0, 2, 'Abelson, Mr. Samuel', 'male', 30, 1, 0)\n",
            "(315, 0, 2, 'Hart, Mr. Benjamin', 'male', 43, 1, 1)\n",
            "(318, 0, 2, 'Moraweck, Dr. Ernest', 'male', 54, 0, 0)\n",
            "(341, 1, 2, 'Navratil, Master. Edmond Roger', 'male', 2, 1, 1)\n",
            "(343, 0, 2, 'Collander, Mr. Erik Gustaf', 'male', 28, 0, 0)\n",
            "(344, 0, 2, 'Sedgwick, Mr. Charles Frederick Waddington', 'male', 25, 0, 0)\n",
            "(345, 0, 2, 'Fox, Mr. Stanley Hubert', 'male', 36, 0, 0)\n",
            "(362, 0, 2, 'del Carlo, Mr. Sebastiano', 'male', 29, 1, 0)\n",
            "(386, 0, 2, 'Davies, Mr. Charles Henry', 'male', 18, 0, 0)\n",
            "(398, 0, 2, 'McKane, Mr. Peter David', 'male', 46, 0, 0)\n",
            "(399, 0, 2, 'Pain, Dr. Alfred', 'male', 23, 0, 0)\n",
            "(406, 0, 2, 'Gale, Mr. Shadrach', 'male', 34, 1, 0)\n",
            "(408, 1, 2, 'Richards, Master. William Rowe', 'male', 3, 1, 1)\n",
            "(414, 0, 2, 'Cunningham, Mr. Alfred Fleming', 'male', '', 0, 0)\n",
            "(419, 0, 2, 'Matthews, Mr. William John', 'male', 30, 0, 0)\n",
            "(440, 0, 2, 'Kvillner, Mr. Johan Henrik Johannesson', 'male', 31, 0, 0)\n",
            "(451, 0, 2, 'West, Mr. Edwy Arthur', 'male', 36, 1, 2)\n",
            "(464, 0, 2, 'Milling, Mr. Jacob Christian', 'male', 48, 0, 0)\n",
            "(467, 0, 2, 'Campbell, Mr. William', 'male', '', 0, 0)\n",
            "(477, 0, 2, 'Renouf, Mr. Peter Henry', 'male', 34, 1, 0)\n",
            "(482, 0, 2, \"Frost, Mr. Anthony Wood 'Archie'\", 'male', '', 0, 0)\n",
            "(530, 0, 2, 'Hocking, Mr. Richard George', 'male', 23, 2, 1)\n",
            "(544, 1, 2, 'Beane, Mr. Edward', 'male', 32, 1, 0)\n",
            "(548, 1, 2, 'Padro y Manent, Mr. Julian', 'male', '', 0, 0)\n",
            "(550, 1, 2, 'Davies, Master. John Morgan Jr', 'male', 8, 1, 1)\n",
            "(552, 0, 2, 'Sharp, Mr. Percival James R', 'male', 27, 0, 0)\n",
            "(563, 0, 2, 'Norman, Mr. Robert Douglas', 'male', 28, 0, 0)\n",
            "(571, 1, 2, 'Harris, Mr. George', 'male', 62, 0, 0)\n",
            "(583, 0, 2, 'Downton, Mr. William James', 'male', 54, 0, 0)\n",
            "(587, 0, 2, 'Jarvis, Mr. John Denzil', 'male', 47, 0, 0)\n",
            "(595, 0, 2, 'Chapman, Mr. John Henry', 'male', 37, 1, 0)\n",
            "(620, 0, 2, 'Gavey, Mr. Lawrence', 'male', 26, 0, 0)\n",
            "(627, 0, 2, 'Kirkland, Rev. Charles Leonard', 'male', 57, 0, 0)\n",
            "(638, 0, 2, 'Collyer, Mr. Harvey', 'male', 31, 1, 1)\n",
            "(656, 0, 2, 'Hickman, Mr. Leonard Mark', 'male', 24, 2, 0)\n",
            "(659, 0, 2, 'Eitemiller, Mr. George Floyd', 'male', 23, 0, 0)\n",
            "(666, 0, 2, 'Hickman, Mr. Lewis', 'male', 32, 2, 0)\n",
            "(667, 0, 2, 'Butler, Mr. Reginald Fenton', 'male', 25, 0, 0)\n",
            "(673, 0, 2, 'Mitchell, Mr. Henry Michael', 'male', 70, 0, 0)\n",
            "(674, 1, 2, 'Wilhelms, Mr. Charles', 'male', 31, 0, 0)\n",
            "(675, 0, 2, 'Watson, Mr. Ennis Hastings', 'male', '', 0, 0)\n",
            "(685, 0, 2, 'Brown, Mr. Thomas William Solomon', 'male', 60, 1, 1)\n",
            "(686, 0, 2, 'Laroche, Mr. Joseph Philippe Lemercier', 'male', 25, 1, 2)\n",
            "(696, 0, 2, 'Chapman, Mr. Charles Henry', 'male', 52, 0, 0)\n",
            "(706, 0, 2, \"Morley, Mr. Henry Samuel ('Mr Henry Marshall')\", 'male', 39, 0, 0)\n",
            "(715, 0, 2, 'Greenberg, Mr. Samuel', 'male', 52, 0, 0)\n",
            "(723, 0, 2, 'Gillespie, Mr. William Henry', 'male', 34, 0, 0)\n",
            "(724, 0, 2, 'Hodges, Mr. Henry Price', 'male', 50, 0, 0)\n",
            "(729, 0, 2, 'Bryhl, Mr. Kurt Arnold Gottfrid', 'male', 25, 1, 0)\n",
            "(733, 0, 2, 'Knight, Mr. Robert J', 'male', '', 0, 0)\n",
            "(734, 0, 2, 'Berriman, Mr. William John', 'male', 23, 0, 0)\n",
            "(735, 0, 2, 'Troupiansky, Mr. Moses Aaron', 'male', 23, 0, 0)\n",
            "(756, 1, 2, 'Hamalainen, Master. Viljo', 'male', 0.67, 1, 1)\n",
            "(758, 0, 2, 'Bailey, Mr. Percy Andrew', 'male', 18, 0, 0)\n",
            "(792, 0, 2, 'Gaskell, Mr. Alfred', 'male', 16, 0, 0)\n",
            "(796, 0, 2, 'Otter, Mr. Richard', 'male', 39, 0, 0)\n",
            "(801, 0, 2, 'Ponesell, Mr. Martin', 'male', 34, 0, 0)\n",
            "(809, 0, 2, 'Meyer, Mr. August', 'male', 39, 0, 0)\n",
            "(813, 0, 2, 'Slemen, Mr. Richard James', 'male', 35, 0, 0)\n",
            "(818, 0, 2, 'Mallet, Mr. Albert', 'male', 31, 1, 1)\n",
            "(828, 1, 2, 'Mallet, Master. Andre', 'male', 1, 0, 2)\n",
            "(832, 1, 2, 'Richards, Master. George Sibley', 'male', 0.83, 1, 1)\n",
            "(842, 0, 2, 'Mudd, Mr. Thomas Charles', 'male', 16, 0, 0)\n",
            "(849, 0, 2, 'Harper, Rev. John', 'male', 28, 0, 1)\n",
            "(862, 0, 2, 'Giles, Mr. Frederick Edward', 'male', 21, 1, 0)\n",
            "(865, 0, 2, 'Gill, Mr. John William', 'male', 24, 0, 0)\n",
            "(884, 0, 2, 'Banfield, Mr. Frederick James', 'male', 28, 0, 0)\n",
            "(887, 0, 2, 'Montvila, Rev. Juozas', 'male', 27, 0, 0)\n"
          ],
          "name": "stdout"
        }
      ]
    },
    {
      "cell_type": "markdown",
      "metadata": {
        "id": "bE_nMG1jzWWr"
      },
      "source": [
        "### TAREFA 09\n",
        "1. Conte quantos passageiros existem por sexo.\n",
        "\n",
        "**DICA**: Use GROUP BY e COUNT()."
      ]
    },
    {
      "cell_type": "code",
      "metadata": {
        "id": "05NUZCopzWWs",
        "colab": {
          "base_uri": "https://localhost:8080/"
        },
        "outputId": "de7f2aac-7503-4819-9938-b08ba84a8afc"
      },
      "source": [
        "# Insira seu código aqui\n",
        "consulta = \"\"\"SELECT Sex, count() FROM PASSAGEIROS GROUP BY Sex\"\"\"\n",
        "executa_consulta(consulta)"
      ],
      "execution_count": 17,
      "outputs": [
        {
          "output_type": "stream",
          "text": [
            "('female', 314)\n",
            "('male', 577)\n"
          ],
          "name": "stdout"
        }
      ]
    },
    {
      "cell_type": "markdown",
      "metadata": {
        "id": "L_dsAmmOzWWs"
      },
      "source": [
        "### TAREFA 10\n",
        "1. Verifique o valor médio das passagens em cada porto de embarque\n",
        "\n",
        "**DICA**: Use GROUP BY e AVG(). A presença de valores missing pode apresentar alguns resultados estranhos."
      ]
    },
    {
      "cell_type": "code",
      "metadata": {
        "id": "GdViIHy-zWWs",
        "colab": {
          "base_uri": "https://localhost:8080/"
        },
        "outputId": "49f866fc-36e4-40c7-b597-ccaf07862ac8"
      },
      "source": [
        "# Insira seu código aqui\n",
        "consulta = \"\"\"SELECT AVG(Fare), Embarked FROM PASSAGENS GROUP BY Embarked\"\"\"\n",
        "executa_consulta(consulta)"
      ],
      "execution_count": 20,
      "outputs": [
        {
          "output_type": "stream",
          "text": [
            "(80.0, '')\n",
            "(12709.34566190476, 'C')\n",
            "(2002.8429129870128, 'Q')\n",
            "(2015.3069857142902, 'S')\n"
          ],
          "name": "stdout"
        }
      ]
    },
    {
      "cell_type": "markdown",
      "metadata": {
        "id": "ClNBT02AzWWt"
      },
      "source": [
        "### TAREFA 11\n",
        "1. Selecione o nome (Name), sexo(Sex) e tarifa(Fare) paga de 5 passageiros\n",
        "2. Utilize as tabelas passageiros e passagens.\n",
        "\n",
        "**DICA**: Use JOIN."
      ]
    },
    {
      "cell_type": "code",
      "metadata": {
        "id": "v95OrxDNzWWu",
        "colab": {
          "base_uri": "https://localhost:8080/"
        },
        "outputId": "2c23f40c-e901-4b5a-e83c-cff5b3744391"
      },
      "source": [
        "# Insira seu código aqui\n",
        "# Insira seu código aqui\n",
        "consulta = \"\"\"SELECT Name, Sex, Fare FROM PASSAGEIROS INNER JOIN PASSAGENS \n",
        "ON passageiros.PassengerId == passagens.PassengerId LIMIT 5\"\"\"\n",
        "executa_consulta(consulta)"
      ],
      "execution_count": 21,
      "outputs": [
        {
          "output_type": "stream",
          "text": [
            "('Braund, Mr. Owen Harris', 'male', 7.25)\n",
            "('Cumings, Mrs. John Bradley (Florence Briggs Thayer)', 'female', 71.2833)\n",
            "('Heikkinen, Miss. Laina', 'female', 7925)\n",
            "('Futrelle, Mrs. Jacques Heath (Lily May Peel)', 'female', 53.1)\n",
            "('Allen, Mr. William Henry', 'male', 8.05)\n"
          ],
          "name": "stdout"
        }
      ]
    },
    {
      "cell_type": "markdown",
      "metadata": {
        "id": "UeI1ZexYzWWu"
      },
      "source": [
        "### TAREFA 12\n",
        "1. Selecione o valor máximo (Fare) das passagens por classe."
      ]
    },
    {
      "cell_type": "code",
      "metadata": {
        "id": "HEcU04SLzWWv",
        "colab": {
          "base_uri": "https://localhost:8080/",
          "height": 316
        },
        "outputId": "a4a6a99a-d78e-4634-8df5-62f6467e759d"
      },
      "source": [
        "# Insira seu código aqui\n",
        "consulta = \"\"\"SELECT MAX(Fare) FROM PASSAGENS GROUP BY PClass\"\"\"\n",
        "executa_consulta(consulta)"
      ],
      "execution_count": null,
      "outputs": [
        {
          "output_type": "error",
          "ename": "OperationalError",
          "evalue": "ignored",
          "traceback": [
            "\u001b[0;31m---------------------------------------------------------------------------\u001b[0m",
            "\u001b[0;31mOperationalError\u001b[0m                          Traceback (most recent call last)",
            "\u001b[0;32m<ipython-input-40-9ca7f9cfb9e5>\u001b[0m in \u001b[0;36m<module>\u001b[0;34m()\u001b[0m\n\u001b[1;32m      1\u001b[0m \u001b[0;31m# Insira seu código aqui\u001b[0m\u001b[0;34m\u001b[0m\u001b[0;34m\u001b[0m\u001b[0;34m\u001b[0m\u001b[0m\n\u001b[1;32m      2\u001b[0m \u001b[0mconsulta\u001b[0m \u001b[0;34m=\u001b[0m \u001b[0;34m\"\"\"SELECT MAX(Fare) FROM PASSAGENS GROUP BY PClass\"\"\"\u001b[0m\u001b[0;34m\u001b[0m\u001b[0;34m\u001b[0m\u001b[0m\n\u001b[0;32m----> 3\u001b[0;31m \u001b[0mexecuta_consulta\u001b[0m\u001b[0;34m(\u001b[0m\u001b[0mconsulta\u001b[0m\u001b[0;34m)\u001b[0m\u001b[0;34m\u001b[0m\u001b[0;34m\u001b[0m\u001b[0m\n\u001b[0m",
            "\u001b[0;32m<ipython-input-31-02cc340ab441>\u001b[0m in \u001b[0;36mexecuta_consulta\u001b[0;34m(consulta)\u001b[0m\n\u001b[1;32m      1\u001b[0m \u001b[0;32mdef\u001b[0m \u001b[0mexecuta_consulta\u001b[0m\u001b[0;34m(\u001b[0m\u001b[0mconsulta\u001b[0m\u001b[0;34m)\u001b[0m\u001b[0;34m:\u001b[0m\u001b[0;34m\u001b[0m\u001b[0;34m\u001b[0m\u001b[0m\n\u001b[1;32m      2\u001b[0m     \u001b[0mcursor\u001b[0m \u001b[0;34m=\u001b[0m \u001b[0mconn\u001b[0m\u001b[0;34m.\u001b[0m\u001b[0mcursor\u001b[0m\u001b[0;34m(\u001b[0m\u001b[0;34m)\u001b[0m\u001b[0;34m\u001b[0m\u001b[0;34m\u001b[0m\u001b[0m\n\u001b[0;32m----> 3\u001b[0;31m     \u001b[0mcursor\u001b[0m\u001b[0;34m.\u001b[0m\u001b[0mexecute\u001b[0m\u001b[0;34m(\u001b[0m\u001b[0mconsulta\u001b[0m\u001b[0;34m)\u001b[0m\u001b[0;34m\u001b[0m\u001b[0;34m\u001b[0m\u001b[0m\n\u001b[0m\u001b[1;32m      4\u001b[0m     \u001b[0;32mfor\u001b[0m \u001b[0mlinha\u001b[0m \u001b[0;32min\u001b[0m \u001b[0mcursor\u001b[0m\u001b[0;34m.\u001b[0m\u001b[0mfetchall\u001b[0m\u001b[0;34m(\u001b[0m\u001b[0;34m)\u001b[0m\u001b[0;34m:\u001b[0m\u001b[0;34m\u001b[0m\u001b[0;34m\u001b[0m\u001b[0m\n\u001b[1;32m      5\u001b[0m         \u001b[0mprint\u001b[0m\u001b[0;34m(\u001b[0m\u001b[0mlinha\u001b[0m\u001b[0;34m)\u001b[0m\u001b[0;34m\u001b[0m\u001b[0;34m\u001b[0m\u001b[0m\n",
            "\u001b[0;31mOperationalError\u001b[0m: no such column: PClass"
          ]
        }
      ]
    },
    {
      "cell_type": "markdown",
      "metadata": {
        "id": "4RQ3gE8nzWWv"
      },
      "source": [
        "### TAREFA 13\n",
        "1. Descubra quantas pessoas embarcaram por porto\n",
        "2. Agrupando por porto e sexo."
      ]
    },
    {
      "cell_type": "code",
      "metadata": {
        "id": "d7W5J7wjzWWw"
      },
      "source": [
        "# Insira seu código aqui\n",
        "consulta = \"\"\"...\"\"\"\n",
        "executa_consulta(consulta)"
      ],
      "execution_count": null,
      "outputs": []
    },
    {
      "cell_type": "markdown",
      "metadata": {
        "id": "q2TboBqBzWWw"
      },
      "source": [
        "## 3. Conclusão\n",
        "\n",
        "A quantidade de consultas e a lista de comandos SQL é enorme. A interação foi somente relembrar alguns comandos básicos para que você se sinta confortável para explorar qualquer banco de dados SQL que você encontrar.\n"
      ]
    },
    {
      "cell_type": "markdown",
      "metadata": {
        "id": "zrU1EtgTzWWx"
      },
      "source": [
        "### Awari -  <a href=\"https://awari.com.br/\"> awari.com.br</a>"
      ]
    }
  ]
}